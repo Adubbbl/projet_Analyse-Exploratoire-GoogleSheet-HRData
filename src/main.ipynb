{
 "cells": [
  {
   "cell_type": "markdown",
   "metadata": {},
   "source": [
    "## Workflow"
   ]
  },
  {
   "cell_type": "markdown",
   "metadata": {},
   "source": [
    "### Cellule data\n",
    "Importation de la base de données HRDataset télécharger sur kaggle"
   ]
  },
  {
   "cell_type": "markdown",
   "metadata": {},
   "source": [
    "## Cellule data-clean\n",
    "\n",
    "Dans cette feuille, je procède au nettoyage et à la préparation des données.\n",
    "\n",
    "- Création de l'année de naissance (YearDOB) à partir de la date de naissance (DOB)\n"
   ]
  }
 ],
 "metadata": {
  "language_info": {
   "name": "python"
  }
 },
 "nbformat": 4,
 "nbformat_minor": 2
}
